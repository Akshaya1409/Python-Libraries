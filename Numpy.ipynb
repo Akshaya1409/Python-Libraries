{
  "nbformat": 4,
  "nbformat_minor": 0,
  "metadata": {
    "colab": {
      "name": "Numpy.ipynb",
      "provenance": [],
      "collapsed_sections": [],
      "authorship_tag": "ABX9TyPALFc+Y1nKoZ4byXA7gUqx",
      "include_colab_link": true
    },
    "kernelspec": {
      "name": "python3",
      "display_name": "Python 3"
    },
    "language_info": {
      "name": "python"
    }
  },
  "cells": [
    {
      "cell_type": "markdown",
      "metadata": {
        "id": "view-in-github",
        "colab_type": "text"
      },
      "source": [
        "<a href=\"https://colab.research.google.com/github/Akshaya1409/Python-Libraries/blob/main/Numpy.ipynb\" target=\"_parent\"><img src=\"https://colab.research.google.com/assets/colab-badge.svg\" alt=\"Open In Colab\"/></a>"
      ]
    },
    {
      "cell_type": "markdown",
      "metadata": {
        "id": "3u5y1Ixo21GD"
      },
      "source": [
        "###Numpy in Python "
      ]
    },
    {
      "cell_type": "markdown",
      "metadata": {
        "id": "TdtW89mS3Dkb"
      },
      "source": [
        "importing numpy library"
      ]
    },
    {
      "cell_type": "code",
      "metadata": {
        "id": "o-2MWOGvb2JE"
      },
      "source": [
        "import numpy as np"
      ],
      "execution_count": 3,
      "outputs": []
    },
    {
      "cell_type": "markdown",
      "metadata": {
        "id": "_fjR46an3R-U"
      },
      "source": [
        "Numpy one dimensional array\n",
        "       \n",
        "          Numpy arrays can be created from list "
      ]
    },
    {
      "cell_type": "code",
      "metadata": {
        "colab": {
          "base_uri": "https://localhost:8080/"
        },
        "id": "LW2j6Dnz3Krw",
        "outputId": "33b11ea7-ae95-45b4-94d5-753b360ef67b"
      },
      "source": [
        "country=[\"India\",\"China\",\"Canada\",\"America\"]      # country is a list containing 4 elements\n",
        "coun_array=np.array(country)    # using np.array  the list is being converted to an 1-D array \n",
        "print(coun_array,type(coun_array))    "
      ],
      "execution_count": 4,
      "outputs": [
        {
          "output_type": "stream",
          "name": "stdout",
          "text": [
            "['India' 'China' 'Canada' 'America'] <class 'numpy.ndarray'>\n"
          ]
        }
      ]
    },
    {
      "cell_type": "code",
      "metadata": {
        "colab": {
          "base_uri": "https://localhost:8080/"
        },
        "id": "gD3nkjnp3wst",
        "outputId": "b8c2fd3d-8474-46c5-915a-27801185ba09"
      },
      "source": [
        "country=[121,\"hi\"]          \n",
        "aray=np.array(country)\n",
        "aray                                    "
      ],
      "execution_count": 5,
      "outputs": [
        {
          "output_type": "execute_result",
          "data": {
            "text/plain": [
              "array(['121', 'hi'], dtype='<U21')"
            ]
          },
          "metadata": {},
          "execution_count": 5
        }
      ]
    },
    {
      "cell_type": "markdown",
      "metadata": {
        "id": "zf4ENksG52Tv"
      },
      "source": [
        "**Generating random arrays**"
      ]
    },
    {
      "cell_type": "code",
      "metadata": {
        "colab": {
          "base_uri": "https://localhost:8080/"
        },
        "id": "ya8GIcxV5k_H",
        "outputId": "6aed5950-1aa0-4e25-8492-730cf6447909"
      },
      "source": [
        "np.random.random(size=15)          # random.random()  shows the number ranging from 0 to 1"
      ],
      "execution_count": 6,
      "outputs": [
        {
          "output_type": "execute_result",
          "data": {
            "text/plain": [
              "array([0.81163227, 0.78242123, 0.10342253, 0.24977719, 0.87340753,\n",
              "       0.1508518 , 0.30700127, 0.38604365, 0.64514704, 0.31634832,\n",
              "       0.80568357, 0.76879473, 0.93215167, 0.5118448 , 0.33613964])"
            ]
          },
          "metadata": {},
          "execution_count": 6
        }
      ]
    },
    {
      "cell_type": "code",
      "metadata": {
        "colab": {
          "base_uri": "https://localhost:8080/"
        },
        "id": "pKIynOu06HTX",
        "outputId": "dc9cf0ac-8caa-4692-cb23-bdd9c318d7ec"
      },
      "source": [
        "np.random.rand(3,3)   # generates random numbers from 0 to 1 in the 3x3 format"
      ],
      "execution_count": 7,
      "outputs": [
        {
          "output_type": "execute_result",
          "data": {
            "text/plain": [
              "array([[0.37876089, 0.17911745, 0.59847202],\n",
              "       [0.12594216, 0.9953254 , 0.58820839],\n",
              "       [0.15482041, 0.47322215, 0.01452242]])"
            ]
          },
          "metadata": {},
          "execution_count": 7
        }
      ]
    },
    {
      "cell_type": "code",
      "metadata": {
        "colab": {
          "base_uri": "https://localhost:8080/"
        },
        "id": "n8SYX0Lj6UJ_",
        "outputId": "6893c720-e076-471b-d604-17c6360a785b"
      },
      "source": [
        "np.random.randn(3,3)  "
      ],
      "execution_count": 8,
      "outputs": [
        {
          "output_type": "execute_result",
          "data": {
            "text/plain": [
              "array([[-0.95347854, -0.80082704, -0.74845124],\n",
              "       [ 0.27727863,  1.71897465, -1.31744603],\n",
              "       [ 0.64970514,  0.78102757,  0.6964143 ]])"
            ]
          },
          "metadata": {},
          "execution_count": 8
        }
      ]
    },
    {
      "cell_type": "code",
      "metadata": {
        "colab": {
          "base_uri": "https://localhost:8080/"
        },
        "id": "rtXSt0oQ6tXh",
        "outputId": "3d340207-dfd9-4c4f-821b-d99390f44787"
      },
      "source": [
        "print(np.arange(10,20,5))          # generates the numpy array with the given range 10 to 20(exclusive) with step count of 5"
      ],
      "execution_count": 9,
      "outputs": [
        {
          "output_type": "stream",
          "name": "stdout",
          "text": [
            "[10 15]\n"
          ]
        }
      ]
    },
    {
      "cell_type": "code",
      "metadata": {
        "colab": {
          "base_uri": "https://localhost:8080/"
        },
        "id": "_tdCk8957B_2",
        "outputId": "8cd77821-7b87-4ebf-b462-7121fb3fef3a"
      },
      "source": [
        "print(np.linspace(0,5,10))   # generates specified number of values in the given range"
      ],
      "execution_count": 10,
      "outputs": [
        {
          "output_type": "stream",
          "name": "stdout",
          "text": [
            "[0.         0.55555556 1.11111111 1.66666667 2.22222222 2.77777778\n",
            " 3.33333333 3.88888889 4.44444444 5.        ]\n"
          ]
        }
      ]
    },
    {
      "cell_type": "code",
      "metadata": {
        "colab": {
          "base_uri": "https://localhost:8080/"
        },
        "id": "mYWeouUa7Yjn",
        "outputId": "5254311e-3fe1-4d19-c6f7-cced2a9dfab2"
      },
      "source": [
        "matrix=np.empty((3,3),dtype=int)      # generates a 2d array\n",
        "matrix                            "
      ],
      "execution_count": 11,
      "outputs": [
        {
          "output_type": "execute_result",
          "data": {
            "text/plain": [
              "array([[4603179219131243634, 4607682818758614130, 4610184818551597739],\n",
              "       [4612186418385984626, 4613437418282476430, 4614688418178968235],\n",
              "       [4615939418075460040, 4616690018013355122, 4617315517961601024]])"
            ]
          },
          "metadata": {},
          "execution_count": 11
        }
      ]
    },
    {
      "cell_type": "code",
      "metadata": {
        "colab": {
          "base_uri": "https://localhost:8080/"
        },
        "id": "XbV8z1TT7phl",
        "outputId": "0938122b-c9dc-48d8-c2ec-26695fe6bbad"
      },
      "source": [
        "np.identity(4)           # creates an 4x4  identity matrix "
      ],
      "execution_count": 12,
      "outputs": [
        {
          "output_type": "execute_result",
          "data": {
            "text/plain": [
              "array([[1., 0., 0., 0.],\n",
              "       [0., 1., 0., 0.],\n",
              "       [0., 0., 1., 0.],\n",
              "       [0., 0., 0., 1.]])"
            ]
          },
          "metadata": {},
          "execution_count": 12
        }
      ]
    },
    {
      "cell_type": "markdown",
      "metadata": {
        "id": "2dplckOE8N5u"
      },
      "source": [
        "np.eye() creates a 2x2 matrix with value as 1 in the kth diagonal and zeros as remaining entries"
      ]
    },
    {
      "cell_type": "code",
      "metadata": {
        "colab": {
          "base_uri": "https://localhost:8080/"
        },
        "id": "EEcqrMdY7pW9",
        "outputId": "793a52ee-3162-4f0c-9870-0ce5767737fc"
      },
      "source": [
        "np.eye(4,4,1)    # here k>1 so the upper diagonal is filled with 1 and rest as zeros"
      ],
      "execution_count": 13,
      "outputs": [
        {
          "output_type": "execute_result",
          "data": {
            "text/plain": [
              "array([[0., 1., 0., 0.],\n",
              "       [0., 0., 1., 0.],\n",
              "       [0., 0., 0., 1.],\n",
              "       [0., 0., 0., 0.]])"
            ]
          },
          "metadata": {},
          "execution_count": 13
        }
      ]
    },
    {
      "cell_type": "code",
      "metadata": {
        "colab": {
          "base_uri": "https://localhost:8080/"
        },
        "id": "bjhtrbra8gkt",
        "outputId": "6256431a-d99b-4b78-de90-6125d6aa8823"
      },
      "source": [
        "np.eye(4,4,-2)    # here k<1 so the lower diagonal is filled with 1 and rest as zeros"
      ],
      "execution_count": 14,
      "outputs": [
        {
          "output_type": "execute_result",
          "data": {
            "text/plain": [
              "array([[0., 0., 0., 0.],\n",
              "       [0., 0., 0., 0.],\n",
              "       [1., 0., 0., 0.],\n",
              "       [0., 1., 0., 0.]])"
            ]
          },
          "metadata": {},
          "execution_count": 14
        }
      ]
    },
    {
      "cell_type": "markdown",
      "metadata": {
        "id": "T1kMBmFa8m9S"
      },
      "source": [
        "##Array Attributes"
      ]
    },
    {
      "cell_type": "code",
      "metadata": {
        "colab": {
          "base_uri": "https://localhost:8080/"
        },
        "id": "dSRMk4V18pOK",
        "outputId": "c08cb3fa-eb14-4381-8c8d-c101b66c339e"
      },
      "source": [
        "#shape returns the no.of rows and columns of an array \n",
        "country=np.array([(\"India\",'China',\"Canada\",\"America\"),(1,2,3,25)])\n",
        "\n",
        "print(country.shape)                                "
      ],
      "execution_count": 15,
      "outputs": [
        {
          "output_type": "stream",
          "name": "stdout",
          "text": [
            "(2, 4)\n"
          ]
        }
      ]
    },
    {
      "cell_type": "code",
      "metadata": {
        "colab": {
          "base_uri": "https://localhost:8080/"
        },
        "id": "fxIH4CJm9WRP",
        "outputId": "26d790f8-84b4-4e1b-81cf-b1f92557e58b"
      },
      "source": [
        "country.size  # returns no of elements"
      ],
      "execution_count": 16,
      "outputs": [
        {
          "output_type": "execute_result",
          "data": {
            "text/plain": [
              "8"
            ]
          },
          "metadata": {},
          "execution_count": 16
        }
      ]
    },
    {
      "cell_type": "code",
      "metadata": {
        "colab": {
          "base_uri": "https://localhost:8080/"
        },
        "id": "axxCfzJI9ZwS",
        "outputId": "bf54ca09-a711-4346-84a4-75885736a2b9"
      },
      "source": [
        "country.dtype"
      ],
      "execution_count": 17,
      "outputs": [
        {
          "output_type": "execute_result",
          "data": {
            "text/plain": [
              "dtype('<U7')"
            ]
          },
          "metadata": {},
          "execution_count": 17
        }
      ]
    },
    {
      "cell_type": "markdown",
      "metadata": {
        "id": "HZFBoGFf9oFN"
      },
      "source": [
        "**Array Indexing and slicing**\n",
        "\n",
        "\n",
        "  **In 1D array**"
      ]
    },
    {
      "cell_type": "code",
      "metadata": {
        "colab": {
          "base_uri": "https://localhost:8080/"
        },
        "id": "uJGVWpE09q2v",
        "outputId": "bba4af48-663a-47e8-f9b8-b83518fbea78"
      },
      "source": [
        "country[1:]   # prints 1st row "
      ],
      "execution_count": 18,
      "outputs": [
        {
          "output_type": "execute_result",
          "data": {
            "text/plain": [
              "array([['1', '2', '3', '25']], dtype='<U7')"
            ]
          },
          "metadata": {},
          "execution_count": 18
        }
      ]
    },
    {
      "cell_type": "code",
      "metadata": {
        "colab": {
          "base_uri": "https://localhost:8080/"
        },
        "id": "2h9kQvk59xFa",
        "outputId": "65f69f51-e3a8-4d61-80de-2b23b1f0d72b"
      },
      "source": [
        "country[1:,:1]    # first row, first element is printed"
      ],
      "execution_count": 19,
      "outputs": [
        {
          "output_type": "execute_result",
          "data": {
            "text/plain": [
              "array([['1']], dtype='<U7')"
            ]
          },
          "metadata": {},
          "execution_count": 19
        }
      ]
    },
    {
      "cell_type": "code",
      "metadata": {
        "colab": {
          "base_uri": "https://localhost:8080/"
        },
        "id": "jAqlbtAtV4dT",
        "outputId": "88f0c948-bc56-420b-8dc4-1c46a3884138"
      },
      "source": [
        "country[1:,:-1]  "
      ],
      "execution_count": 27,
      "outputs": [
        {
          "output_type": "execute_result",
          "data": {
            "text/plain": [
              "array([['1', '2', '3']], dtype='<U7')"
            ]
          },
          "metadata": {},
          "execution_count": 27
        }
      ]
    },
    {
      "cell_type": "markdown",
      "metadata": {
        "id": "15bYKdH_-Mz0"
      },
      "source": [
        "**Slicing in 2D Array**\n",
        "\n",
        " **In 2D array**"
      ]
    },
    {
      "cell_type": "code",
      "metadata": {
        "colab": {
          "base_uri": "https://localhost:8080/"
        },
        "id": "8rRa3OaF-P9s",
        "outputId": "23416cd5-3419-42f9-c4fd-3095347d30d6"
      },
      "source": [
        "mat=np.array([(12,25,36),(45,3,98)])\n",
        "print(mat[1:,:1])                      # prints 1st row 1st column  element with index=0 "
      ],
      "execution_count": 21,
      "outputs": [
        {
          "output_type": "stream",
          "name": "stdout",
          "text": [
            "[[45]]\n"
          ]
        }
      ]
    },
    {
      "cell_type": "code",
      "metadata": {
        "colab": {
          "base_uri": "https://localhost:8080/"
        },
        "id": "XdIMH887-4uS",
        "outputId": "b9ca250a-3d24-4614-c9f8-d1d059badfaa"
      },
      "source": [
        "print(mat[0:,:2])  "
      ],
      "execution_count": 22,
      "outputs": [
        {
          "output_type": "stream",
          "name": "stdout",
          "text": [
            "[[12 25]\n",
            " [45  3]]\n"
          ]
        }
      ]
    },
    {
      "cell_type": "markdown",
      "metadata": {
        "id": "IgM6py46_atu"
      },
      "source": [
        "**Numpy: Array addition and subtraction**"
      ]
    },
    {
      "cell_type": "code",
      "metadata": {
        "colab": {
          "base_uri": "https://localhost:8080/"
        },
        "id": "bT_KypnO_evc",
        "outputId": "1ad05e75-2011-42ed-ec30-c771e5f4f93c"
      },
      "source": [
        "ar=np.array(np.random.randint(1,5,5))        # randomly generated  equisized 2 array \n",
        "a=np.array(np.random.randint(1,10,5)) \n",
        "print(ar+a)  # adding those array\n",
        "print(ar-a)  # subtracting them     \n",
        "print(ar*2)   # multiplying them"
      ],
      "execution_count": 23,
      "outputs": [
        {
          "output_type": "stream",
          "name": "stdout",
          "text": [
            "[5 3 6 4 9]\n",
            "[-3 -1  2  0 -7]\n",
            "[2 2 8 4 2]\n"
          ]
        }
      ]
    },
    {
      "cell_type": "code",
      "metadata": {
        "colab": {
          "base_uri": "https://localhost:8080/"
        },
        "id": "XcFXEGm1Blik",
        "outputId": "b22d4e31-9b31-41cb-cbc9-16d540fb855e"
      },
      "source": [
        "A=np.array(np.random.randint(1,10,5))\n",
        "print(A)\n",
        "print(A.min())      # minimum in the list\n",
        "print(A.argmin())       # minimum's position  in the list\n",
        "print(A.max())             # maximum in the list\n",
        "print(A.argmax()) # maximum's position in the list"
      ],
      "execution_count": 24,
      "outputs": [
        {
          "output_type": "stream",
          "name": "stdout",
          "text": [
            "[4 2 5 3 4]\n",
            "2\n",
            "1\n",
            "5\n",
            "2\n"
          ]
        }
      ]
    },
    {
      "cell_type": "markdown",
      "metadata": {
        "id": "_I5EQj1YAgiL"
      },
      "source": [
        "Elemet wise multiplication "
      ]
    },
    {
      "cell_type": "code",
      "metadata": {
        "colab": {
          "base_uri": "https://localhost:8080/"
        },
        "id": "uW8c8WxOAEXQ",
        "outputId": "60c5732d-4cc9-43cc-eb05-3abc259ab694"
      },
      "source": [
        "mul=np.array([(1,2,3),(4,5,6)])\n",
        "m=np.array([(11,0,1),(1,5,7)])\n",
        "print(mul*m)                         "
      ],
      "execution_count": 25,
      "outputs": [
        {
          "output_type": "stream",
          "name": "stdout",
          "text": [
            "[[11  0  3]\n",
            " [ 4 25 42]]\n"
          ]
        }
      ]
    },
    {
      "cell_type": "code",
      "metadata": {
        "colab": {
          "base_uri": "https://localhost:8080/",
          "height": 163
        },
        "id": "Hq4pohXOAq6p",
        "outputId": "dcf99dec-b143-467f-e289-3b3dbf9b17ea"
      },
      "source": [
        "matrix_mul=mul.dot(m)                # In order to do matrix  multiplication the no.of rows in first matrix must be equal to no.of columns in the 2nd one"
      ],
      "execution_count": 28,
      "outputs": [
        {
          "output_type": "error",
          "ename": "ValueError",
          "evalue": "ignored",
          "traceback": [
            "\u001b[0;31m---------------------------------------------------------------------------\u001b[0m",
            "\u001b[0;31mValueError\u001b[0m                                Traceback (most recent call last)",
            "\u001b[0;32m<ipython-input-28-83271aa72553>\u001b[0m in \u001b[0;36m<module>\u001b[0;34m()\u001b[0m\n\u001b[0;32m----> 1\u001b[0;31m \u001b[0mmatrix_mul\u001b[0m\u001b[0;34m=\u001b[0m\u001b[0mmul\u001b[0m\u001b[0;34m.\u001b[0m\u001b[0mdot\u001b[0m\u001b[0;34m(\u001b[0m\u001b[0mm\u001b[0m\u001b[0;34m)\u001b[0m                \u001b[0;31m# In order to do matrix  multiplication the no.of rows in first matrix must be equal to no.of columns in the 2nd one\u001b[0m\u001b[0;34m\u001b[0m\u001b[0;34m\u001b[0m\u001b[0m\n\u001b[0m",
            "\u001b[0;31mValueError\u001b[0m: shapes (2,3) and (2,3) not aligned: 3 (dim 1) != 2 (dim 0)"
          ]
        }
      ]
    },
    {
      "cell_type": "code",
      "metadata": {
        "colab": {
          "base_uri": "https://localhost:8080/"
        },
        "id": "roncABz_A-YG",
        "outputId": "73d3ec49-5206-45df-8692-723bc002fd45"
      },
      "source": [
        "a=np.array([(1,2,3),(4,5,6)])      \n",
        "b=np.array([(11,1),(1,7),(4,5)])               # Matrix multiplication by dot() operation \n",
        "mat_mul=a.dot(b)\n",
        "print(mat_mul)                 # 2x3.dot(3x2) = 2x2 matrix "
      ],
      "execution_count": 29,
      "outputs": [
        {
          "output_type": "stream",
          "name": "stdout",
          "text": [
            "[[25 30]\n",
            " [73 69]]\n"
          ]
        }
      ]
    },
    {
      "cell_type": "code",
      "metadata": {
        "colab": {
          "base_uri": "https://localhost:8080/"
        },
        "id": "CqXwF8bBAmu_",
        "outputId": "72b8f7b5-3d27-43cf-901d-bed41a324622"
      },
      "source": [
        "np.transpose(mat_mul)        # transposing the rows to columns and columns to rows"
      ],
      "execution_count": 30,
      "outputs": [
        {
          "output_type": "execute_result",
          "data": {
            "text/plain": [
              "array([[25, 73],\n",
              "       [30, 69]])"
            ]
          },
          "metadata": {},
          "execution_count": 30
        }
      ]
    },
    {
      "cell_type": "markdown",
      "metadata": {
        "id": "qgDvFsPECh2-"
      },
      "source": [
        "### Concatenating two 1D Array"
      ]
    },
    {
      "cell_type": "code",
      "metadata": {
        "colab": {
          "base_uri": "https://localhost:8080/"
        },
        "id": "wACCLy74ChXg",
        "outputId": "485cdd1c-26a7-49e6-d1a7-32ec13d86847"
      },
      "source": [
        "x=np.array([1,2,3])       \n",
        "y=np.array([5,6,9])\n",
        "print(\"Array 1D-->\",x)\n",
        "print(\"Array 1D-->\",y)\n",
        "print(\"The concatenated array -->\",np.concatenate([x,y]))"
      ],
      "execution_count": 34,
      "outputs": [
        {
          "output_type": "stream",
          "name": "stdout",
          "text": [
            "Array 1D--> [1 2 3]\n",
            "Array 1D--> [5 6 9]\n",
            "The concatenated array --> [1 2 3 5 6 9]\n"
          ]
        }
      ]
    },
    {
      "cell_type": "markdown",
      "metadata": {
        "id": "mMUiLgXUDOL_"
      },
      "source": [
        "### Concatenating 2D Array"
      ]
    },
    {
      "cell_type": "code",
      "metadata": {
        "colab": {
          "base_uri": "https://localhost:8080/"
        },
        "id": "7lDPMKd4DlKp",
        "outputId": "0509ed88-b345-4645-db50-f50f4a6946e4"
      },
      "source": [
        "a=np.array([(1,2),(4,5)])      \n",
        "b=np.array([(11,1),(1,7),(4,5)])  \n",
        "print(\"Concatenated 2D Array\",np.concatenate([a,b])) "
      ],
      "execution_count": 36,
      "outputs": [
        {
          "output_type": "stream",
          "name": "stdout",
          "text": [
            "Concatenated 2D Array [[ 1  2]\n",
            " [ 4  5]\n",
            " [11  1]\n",
            " [ 1  7]\n",
            " [ 4  5]]\n"
          ]
        }
      ]
    },
    {
      "cell_type": "code",
      "metadata": {
        "colab": {
          "base_uri": "https://localhost:8080/"
        },
        "id": "gfHCH8_2DT8N",
        "outputId": "25580ada-40d9-4e0f-cbe4-b03d343cecd7"
      },
      "source": [
        "a=np.array([(1,2),(4,5),(9,9)])      \n",
        "b=np.array([(11,1),(1,7),(4,5)])  \n",
        "print(np.concatenate([a,b]))            "
      ],
      "execution_count": 37,
      "outputs": [
        {
          "output_type": "stream",
          "name": "stdout",
          "text": [
            "[[ 1  2]\n",
            " [ 4  5]\n",
            " [ 9  9]\n",
            " [11  1]\n",
            " [ 1  7]\n",
            " [ 4  5]]\n"
          ]
        }
      ]
    },
    {
      "cell_type": "markdown",
      "metadata": {
        "id": "nffIiXmIEH_x"
      },
      "source": [
        "###Assignment"
      ]
    },
    {
      "cell_type": "markdown",
      "metadata": {
        "id": "fvGTEySwiKuD"
      },
      "source": [
        " 1. Creating a null vector "
      ]
    },
    {
      "cell_type": "code",
      "metadata": {
        "id": "McEEN8RJDwPq"
      },
      "source": [
        "arr=np.zeros(10)\n"
      ],
      "execution_count": null,
      "outputs": []
    },
    {
      "cell_type": "markdown",
      "metadata": {
        "id": "MiRD5moGiN3S"
      },
      "source": [
        " 2. Create a null vector with size 10 and assign 5th values as 1"
      ]
    },
    {
      "cell_type": "code",
      "metadata": {
        "id": "__oM8ewPhjSF"
      },
      "source": [
        "nullvec=np.zeros(10)\n",
        "nullvec[4] = 1\n",
        "nullvec"
      ],
      "execution_count": null,
      "outputs": []
    },
    {
      "cell_type": "markdown",
      "metadata": {
        "id": "ub5_Z276iUkt"
      },
      "source": [
        "3.generate 10 random numbers from 20-35"
      ]
    },
    {
      "cell_type": "code",
      "metadata": {
        "id": "a-mBYS8dEfJj"
      },
      "source": [
        " arr=np.array(np.random.randint(20,35,10))\n",
        " arr"
      ],
      "execution_count": null,
      "outputs": []
    },
    {
      "cell_type": "markdown",
      "metadata": {
        "id": "3_cxht2SidVT"
      },
      "source": [
        "4. reverse the generated random number"
      ]
    },
    {
      "cell_type": "code",
      "metadata": {
        "id": "r1K3ANxpEe_M"
      },
      "source": [
        "arr[::-1]"
      ],
      "execution_count": null,
      "outputs": []
    }
  ]
}